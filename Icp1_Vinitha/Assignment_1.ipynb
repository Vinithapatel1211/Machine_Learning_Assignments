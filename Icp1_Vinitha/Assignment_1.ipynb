{
  "cells": [
    {
      "cell_type": "code",
      "execution_count": 3,
      "metadata": {
        "colab": {
          "base_uri": "https://localhost:8080/"
        },
        "id": "u1cTp9Xt67nn",
        "outputId": "26f9d6e8-92d0-4bbd-dbae-0fc70bf0ab15"
      },
      "outputs": [
        {
          "name": "stdout",
          "output_type": "stream",
          "text": [
            "[19, 19, 20, 22, 24, 24, 24, 25, 25, 26]\n",
            "Minimum age = 19\n",
            "Maximum age = 26\n",
            "[19, 19, 20, 22, 24, 24, 24, 25, 25, 26, 19, 26]\n",
            "Median = 24\n",
            "Average = 22.75\n",
            "Range = 7\n"
          ]
        }
      ],
      "source": [
        "ages = [19, 22, 19, 24, 20, 25, 26, 24, 25, 24]\n",
        "\n",
        "ages.sort()\n",
        "print(ages)\n",
        "print(\"Minimum age = \" + str(ages[0]))\n",
        "print(\"Maximum age = \" + str(ages[-1]))\n",
        "\n",
        "ages.append(ages[0])\n",
        "ages.append(ages[-2])\n",
        "print(ages)\n",
        "\n",
        "print(\"Median = \" + str(ages[len(ages)//2-1]))\n",
        "print(\"Average = \" + str(sum(ages)/len(ages)))\n",
        "print(\"Range = \" + str(ages[-1]-ages[0]))"
      ]
    },
    {
      "cell_type": "code",
      "execution_count": 3,
      "metadata": {
        "colab": {
          "base_uri": "https://localhost:8080/"
        },
        "id": "loK7dYk9UkM8",
        "outputId": "58a4ee8c-4fe5-4fb2-c457-9933a79eaa6c"
      },
      "outputs": [
        {
          "name": "stdout",
          "output_type": "stream",
          "text": [
            "length of student = 9\n",
            "<class 'list'>\n",
            "['Problem Solving', 'Communication', 'Creativity', 'Leadership']\n",
            "keys of student dictionary = dict_keys(['first_name', 'last_name', 'gender', 'age', 'martial status', 'skills', 'country', 'city', 'address'])\n",
            "values of student dictionary = dict_values(['Viditha', 'Avuthu', 'Female', '25', 'Single', ['Problem Solving', 'Communication', 'Creativity', 'Leadership'], 'India', 'Guntur', 'Tenali'])\n"
          ]
        }
      ],
      "source": [
        "dog = {}\n",
        "dog = {\"name\":\"Brodie\", \"color\":\"Gold\", \"bread\":\"Golden Retriver\", \"legs\":\"4\", \"age\":\"2\"}\n",
        "\n",
        "\n",
        "student= {\"first_name\":\"Vinitha\",\n",
        "          \"last_name\":\"Patel\",\n",
        "          \"gender\":\"Female\",\n",
        "          \"age\":\"25\",\n",
        "          \"martial status\":\"Single\",\n",
        "          \"skills\":['Problem Solving'],\n",
        "          \"country\":\"India\",\n",
        "          \"city\":\"Guntur\",\n",
        "          \"address\":\"Tenali\"}\n",
        "\n",
        "print(\"length of student = \" + str(len(student)))\n",
        "\n",
        "print(type(student['skills']))\n",
        "\n",
        "student['skills'].extend(['Communication', 'Creativity', 'Leadership'])\n",
        "print(student['skills'])\n",
        "\n",
        "print(\"keys of student dictionary = \" + str(student.keys()))\n",
        "\n",
        "print(\"values of student dictionary = \" + str(student.values()))"
      ]
    },
    {
      "cell_type": "code",
      "execution_count": 4,
      "metadata": {
        "colab": {
          "base_uri": "https://localhost:8080/"
        },
        "id": "L5soBligG9S_",
        "outputId": "e60617ee-85db-44d7-850f-62bcd370b692"
      },
      "outputs": [
        {
          "name": "stdout",
          "output_type": "stream",
          "text": [
            "no of siblings: 8\n",
            "('b1', 'b2', 'b3', 's1', 's2', 's3', 's4', 's5')\n",
            "type:  <class 'tuple'>\n",
            "family member:  ('b1', 'b2', 'b3', 's1', 's2', 's3', 's4', 's5', 'f1', 'f2')\n"
          ]
        }
      ],
      "source": [
        "brothers = (\"b1\", \"b2\", \"b3\")\n",
        "sisters = (\"s1\", \"s2\", \"s3\", \"s4\",\"s5\")\n",
        "\n",
        "siblings = brothers + sisters\n",
        "print(\"no of sibling = \" + len(siblings))\n",
        "print(siblings)\n",
        "\n",
        "family_member = ()\n",
        "family_member += siblings + (\"f1\", \"m1\")\n",
        "\n",
        "print(\"type: \",type(family_member))\n",
        "print(family_member)"
      ]
    },
    {
      "cell_type": "code",
      "execution_count": 9,
      "metadata": {
        "colab": {
          "base_uri": "https://localhost:8080/"
        },
        "id": "I0fvtTr7ID5D",
        "outputId": "e8a30d20-37bd-4e2d-f626-4cc33286a3cc"
      },
      "outputs": [
        {
          "name": "stdout",
          "output_type": "stream",
          "text": [
            "7\n",
            "{'Apple', 'twitter', 'Microsoft', 'IBM', 'Oracle', 'Google', 'Amazon', 'Facebook'}\n",
            "{'Accenture', 'Google', 'IBM', 'Microsoft', 'Oracle', 'Amazon', 'BOFA', 'Apple', 'twitter', 'Walmart', 'Facebook'}\n",
            "{'Google', 'IBM', 'Microsoft', 'Oracle', 'Amazon', 'BOFA', 'Apple', 'twitter', 'Walmart', 'Facebook'}\n",
            "{'Google', 'IBM', 'Microsoft', 'Oracle', 'Amazon', 'BOFA', 'Apple', 'twitter', 'Walmart', 'Facebook'}\n",
            "{19, 20, 22, 24, 25, 26, 27, 28}\n",
            "{19, 20, 22, 24, 25, 26}\n",
            "True\n",
            "False\n",
            "{19, 20, 22, 24, 25, 26, 27, 28}\n",
            "{19, 20, 22, 24, 25, 26, 27, 28}\n",
            "set()\n",
            "8\n",
            "5\n"
          ]
        }
      ],
      "source": [
        "it_companies = {'Facebook', 'Google', 'Microsoft', 'Apple', 'IBM', 'Oracle', 'Amazon'}\n",
        "A = {19, 22, 24, 20, 25, 26}\n",
        "B = {19, 22, 20, 25, 26, 24, 28, 27}\n",
        "age = [22, 19, 24, 25, 26, 24, 25, 24]\n",
        "\n",
        "print(len(it_companies))\n",
        "\n",
        "it_companies.add(\"twitter\")\n",
        "print(it_companies)\n",
        "\n",
        "it_companies.update(['Walmart', 'Accenture', 'BOFA'])\n",
        "print(it_companies)\n",
        "\n",
        "it_companies.remove('Accenture')\n",
        "print(it_companies)\n",
        "\n",
        "it_companies.discard('infosys')\n",
        "print(it_companies)\n",
        "\n",
        "print(A | B)\n",
        "print(A & B)\n",
        "print(A.issubset(B))\n",
        "print(A.isdisjoint(B))\n",
        "\n",
        "A.update(B)\n",
        "print(A)\n",
        "B.update(A)\n",
        "print(B)\n",
        "\n",
        "print(A.symmetric_difference(B))\n",
        "A.clear()\n",
        "B.clear()\n",
        "\n",
        "print(len(age))\n",
        "AgeSet = set(age)\n",
        "print(len(AgeSet))"
      ]
    },
    {
      "cell_type": "code",
      "execution_count": 19,
      "metadata": {
        "colab": {
          "base_uri": "https://localhost:8080/"
        },
        "id": "M68guPgDKiAr",
        "outputId": "47f0470e-5e62-4ff0-bdc3-aaf9023eaeb1"
      },
      "outputs": [
        {
          "name": "stdout",
          "output_type": "stream",
          "text": [
            "area = 2826.0\n",
            "circumference = 188.4\n",
            "enter radius = 5\n",
            "Area from user input radius = 78.5\n"
          ]
        }
      ],
      "source": [
        "r1 = 30\n",
        "\n",
        "_area_of_circle_ = 3.14 * (r1**2)\n",
        "_circumference_of_circle_ = 2 * 3.14 * r1\n",
        "\n",
        "print(\"area = \" + str(_area_of_circle_))\n",
        "print(\"circumference = \" + str(_circumference_of_circle_))\n",
        "\n",
        "r2 = int(input(\"enter radius = \"))\n",
        "na = 3.14 * r2 * r2\n",
        "print(\"Area from user input radius = \" + str(na))"
      ]
    },
    {
      "cell_type": "code",
      "execution_count": 17,
      "metadata": {
        "colab": {
          "base_uri": "https://localhost:8080/"
        },
        "id": "OWT2HXeSLE_H",
        "outputId": "3bd858a4-b5fb-4cd8-a0e1-a1f3ca7f7187"
      },
      "outputs": [
        {
          "name": "stdout",
          "output_type": "stream",
          "text": [
            "number of unique words = 10\n"
          ]
        }
      ],
      "source": [
        "s = \"I am a teacher and I love to inspire and teach people\".split(' ')\n",
        "\n",
        "print(\"number of unique words = \" + str(len(set(list))))"
      ]
    },
    {
      "cell_type": "code",
      "execution_count": 12,
      "metadata": {
        "colab": {
          "base_uri": "https://localhost:8080/"
        },
        "id": "x5yaUMpCLLwu",
        "outputId": "50a885eb-de15-4e3a-fb32-8028809d5efa"
      },
      "outputs": [
        {
          "name": "stdout",
          "output_type": "stream",
          "text": [
            "Name\t\tAge\t\tCountry\t\tCity\n",
            "Asabeneh\t250\t\tFinland\t\tHelsinki\n"
          ]
        }
      ],
      "source": [
        "print(\"Name\\t\\tAge\\t\\tCountry\\t\\tCity\\nAsabeneh\\t250\\t\\tFinland\\t\\tHelsinki\")"
      ]
    },
    {
      "cell_type": "code",
      "execution_count": 13,
      "metadata": {
        "colab": {
          "base_uri": "https://localhost:8080/"
        },
        "id": "b-Z7Hdp4LauU",
        "outputId": "cd601c80-c249-4f32-b213-7d2d9fba66d7"
      },
      "outputs": [
        {
          "name": "stdout",
          "output_type": "stream",
          "text": [
            "The area of a circle with radius 10 is 314.0 meters square.\n"
          ]
        }
      ],
      "source": [
        "radius = 10\n",
        "area = 3.14 * radius ** 2\n",
        "print(f\"The area of a circle with radius {radius} is {area} meters square.\")"
      ]
    },
    {
      "cell_type": "code",
      "execution_count": 21,
      "metadata": {
        "colab": {
          "base_uri": "https://localhost:8080/"
        },
        "id": "vTDsKFQiLfSS",
        "outputId": "9166daa8-77df-4c2e-f1b8-addc051cad7f"
      },
      "outputs": [
        {
          "name": "stdout",
          "output_type": "stream",
          "text": [
            "[68.0388, 70.30676, 65.77083999999999, 67.131616]\n"
          ]
        }
      ],
      "source": [
        "lbs = [150, 155, 145, 148]\n",
        "kgs = [x*0.453592 for x in lbs]\n",
        "print(kgs)"
      ]
    },
    {
      "cell_type": "code",
      "execution_count": null,
      "metadata": {
        "id": "Ap2mf948Lkhq"
      },
      "outputs": [],
      "source": []
    }
  ],
  "metadata": {
    "colab": {
      "provenance": []
    },
    "kernelspec": {
      "display_name": "Python 3",
      "name": "python3"
    },
    "language_info": {
      "name": "python"
    }
  },
  "nbformat": 4,
  "nbformat_minor": 0
}
