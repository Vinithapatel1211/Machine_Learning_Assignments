{
  "nbformat": 4,
  "nbformat_minor": 0,
  "metadata": {
    "colab": {
      "provenance": []
    },
    "kernelspec": {
      "name": "python3",
      "display_name": "Python 3"
    },
    "language_info": {
      "name": "python"
    }
  },
  "cells": [
    {
      "cell_type": "code",
      "execution_count": 16,
      "metadata": {
        "colab": {
          "base_uri": "https://localhost:8080/"
        },
        "id": "02jNBlvCF7Cg",
        "outputId": "0d961fb4-8af6-4c36-9293-b2138b82a5c0"
      },
      "outputs": [
        {
          "output_type": "stream",
          "name": "stdout",
          "text": [
            "[ 4 11 12 19 14  2 18  7 13 20  3  9  5 16 15]\n",
            "[[ 4 11 12 19 14]\n",
            " [ 2 18  7 13 20]\n",
            " [ 3  9  5 16 15]]\n",
            "(3, 5)\n",
            "[[ 4 11 12  0 14]\n",
            " [ 2 18  7 13  0]\n",
            " [ 3  9  5  0 15]]\n"
          ]
        }
      ],
      "source": [
        "import numpy as np\n",
        "\n",
        "arr = np.random.choice(np.arange(1, 21), size=15, replace=False)\n",
        "print(arr)\n",
        "\n",
        "arr = arr.reshape(3,5)\n",
        "print(arr)\n",
        "\n",
        "print(arr.shape)\n",
        "\n",
        "vals = np.argmax(arr, axis=1)\n",
        "arr[np.arange(arr.shape[0]), vals] = 0\n",
        "print(arr)"
      ]
    },
    {
      "cell_type": "code",
      "source": [
        "brr = np.random.randint(0, 100, size=(4, 3), dtype=np.int32)\n",
        "print(brr)\n",
        "\n",
        "print(brr.shape)\n",
        "\n",
        "print(type(brr))\n",
        "\n",
        "print(brr.dtype)"
      ],
      "metadata": {
        "colab": {
          "base_uri": "https://localhost:8080/"
        },
        "id": "ciMtAGvsGeh1",
        "outputId": "8a724739-ee4a-40de-f16c-c0264cd8ee3f"
      },
      "execution_count": 17,
      "outputs": [
        {
          "output_type": "stream",
          "name": "stdout",
          "text": [
            "[[27 49 18]\n",
            " [21 63  4]\n",
            " [17 25 49]\n",
            " [54 91 86]]\n",
            "(4, 3)\n",
            "<class 'numpy.ndarray'>\n",
            "int32\n"
          ]
        }
      ]
    },
    {
      "cell_type": "code",
      "source": [
        "crr = np.array([[3, -2],[1, 0]])\n",
        "\n",
        "values, vectors = np.linalg.eig(crr)\n",
        "\n",
        "print(values)\n",
        "print(vectors)"
      ],
      "metadata": {
        "colab": {
          "base_uri": "https://localhost:8080/"
        },
        "id": "aXrT5XAgVBOw",
        "outputId": "a9b9e87f-d2df-4eb5-d986-f05db4b7be3f"
      },
      "execution_count": 18,
      "outputs": [
        {
          "output_type": "stream",
          "name": "stdout",
          "text": [
            "[2. 1.]\n",
            "[[0.89442719 0.70710678]\n",
            " [0.4472136  0.70710678]]\n"
          ]
        }
      ]
    },
    {
      "cell_type": "code",
      "source": [
        "drr = np.array([[0, 1, 2],\n",
        "                [3, 4, 5]])\n",
        "\n",
        "diag = np.trace(drr)\n",
        "\n",
        "print(diag)"
      ],
      "metadata": {
        "colab": {
          "base_uri": "https://localhost:8080/"
        },
        "id": "w8n2hBmRVmhI",
        "outputId": "c21507b2-666f-4e6b-9a1f-89cd942f6961"
      },
      "execution_count": 19,
      "outputs": [
        {
          "output_type": "stream",
          "name": "stdout",
          "text": [
            "4\n"
          ]
        }
      ]
    },
    {
      "cell_type": "code",
      "source": [
        "err = np.arange(1,7)\n",
        "print(err)\n",
        "\n",
        "err = err.reshape(3,2)\n",
        "print(err)\n",
        "\n",
        "err = err.reshape(2,3)\n",
        "print(err)"
      ],
      "metadata": {
        "colab": {
          "base_uri": "https://localhost:8080/"
        },
        "id": "AwmSWkHYWChp",
        "outputId": "df75c0d6-b562-4042-bab0-1892de42cdbd"
      },
      "execution_count": 20,
      "outputs": [
        {
          "output_type": "stream",
          "name": "stdout",
          "text": [
            "[1 2 3 4 5 6]\n",
            "[[1 2]\n",
            " [3 4]\n",
            " [5 6]]\n",
            "[[1 2 3]\n",
            " [4 5 6]]\n"
          ]
        }
      ]
    },
    {
      "cell_type": "code",
      "source": [],
      "metadata": {
        "id": "Q5yuNUDfWwHP"
      },
      "execution_count": null,
      "outputs": []
    }
  ]
}